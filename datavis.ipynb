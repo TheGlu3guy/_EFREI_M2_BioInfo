{
 "cells": [
  {
   "cell_type": "code",
   "execution_count": null,
   "metadata": {},
   "outputs": [],
   "source": [
    "def ShowImageFromByteArray(byte_array, width=300, height=300):\n",
    "    from IPython.display import display, Image\n",
    "    from PIL import Image as PILImage\n",
    "    from io import BytesIO\n",
    "    img = PILImage.open(BytesIO(byte_array))\n",
    "    img = img.resize((width, height))\n",
    "    b = BytesIO()\n",
    "    img.save(b, format='png')\n",
    "    display(Image(data=b.getvalue()))"
   ]
  },
  {
   "cell_type": "code",
   "execution_count": 2,
   "metadata": {},
   "outputs": [
    {
     "data": {
      "text/plain": [
       "['./surveillance-systems-overview-2017_4.xlsx',\n",
       " './surveillance-systems-overview-2018.xlsx',\n",
       " './Table-surveillance_systems_overview_2.xlsx',\n",
       " './Table-surveillance_systems_overview_2019_20210215.xlsx',\n",
       " './Table-surveillance_systems_overview_3 (1).xlsx',\n",
       " './Table-surveillance_systems_overview_3.xlsx',\n",
       " './Table-surveillance_systems_overview_for_2016_0.xlsx']"
      ]
     },
     "execution_count": 2,
     "metadata": {},
     "output_type": "execute_result"
    }
   ],
   "source": [
    "def GetFilesXlsxInFolder(folder):\n",
    "    import os\n",
    "    files = os.listdir(folder)\n",
    "    return [os.path.join(folder, f) for f in files if f.endswith(\".xlsx\")]\n",
    "GetFilesXlsxInFolder(\"./\")"
   ]
  },
  {
   "cell_type": "code",
   "execution_count": 8,
   "metadata": {},
   "outputs": [
    {
     "data": {
      "text/html": [
       "<div>\n",
       "<style scoped>\n",
       "    .dataframe tbody tr th:only-of-type {\n",
       "        vertical-align: middle;\n",
       "    }\n",
       "\n",
       "    .dataframe tbody tr th {\n",
       "        vertical-align: top;\n",
       "    }\n",
       "\n",
       "    .dataframe thead th {\n",
       "        text-align: right;\n",
       "    }\n",
       "</style>\n",
       "<table border=\"1\" class=\"dataframe\">\n",
       "  <thead>\n",
       "    <tr style=\"text-align: right;\">\n",
       "      <th></th>\n",
       "      <th></th>\n",
       "      <th>Annual epidemiological report for 2017</th>\n",
       "    </tr>\n",
       "  </thead>\n",
       "  <tbody>\n",
       "    <tr>\n",
       "      <th>0</th>\n",
       "      <td>NaN</td>\n",
       "      <td>Surveillance systems overview for 2017</td>\n",
       "    </tr>\n",
       "    <tr>\n",
       "      <th>1</th>\n",
       "      <td>NaN</td>\n",
       "      <td>NaN</td>\n",
       "    </tr>\n",
       "    <tr>\n",
       "      <th>2</th>\n",
       "      <td>NaN</td>\n",
       "      <td>This spreadsheet contains all surveillance sys...</td>\n",
       "    </tr>\n",
       "    <tr>\n",
       "      <th>3</th>\n",
       "      <td>NaN</td>\n",
       "      <td>The included diseases are listed at the bottom...</td>\n",
       "    </tr>\n",
       "    <tr>\n",
       "      <th>4</th>\n",
       "      <td>NaN</td>\n",
       "      <td>NaN</td>\n",
       "    </tr>\n",
       "  </tbody>\n",
       "</table>\n",
       "</div>"
      ],
      "text/plain": [
       "                  Annual epidemiological report for 2017\n",
       "0 NaN             Surveillance systems overview for 2017\n",
       "1 NaN                                                NaN\n",
       "2 NaN  This spreadsheet contains all surveillance sys...\n",
       "3 NaN  The included diseases are listed at the bottom...\n",
       "4 NaN                                                NaN"
      ]
     },
     "execution_count": 8,
     "metadata": {},
     "output_type": "execute_result"
    }
   ],
   "source": [
    "import pandas as pd\n",
    "\n",
    "def ConvertXlsxToCsv(xlsx_file, csv_file):\n",
    "    df = pd.read_excel(xlsx_file)\n",
    "    df.to_csv(csv_file, index=False)\n",
    "\n",
    "df = pd.read_excel(GetFilesXlsxInFolder(\"./\")[0])\n",
    "df.head()"
   ]
  },
  {
   "cell_type": "code",
   "execution_count": 1,
   "metadata": {},
   "outputs": [
    {
     "data": {
      "text/plain": [
       "['./surveillance-systems-overview-2017_4.xlsx',\n",
       " './surveillance-systems-overview-2018.xlsx',\n",
       " './Table-surveillance_systems_overview_2.xlsx',\n",
       " './Table-surveillance_systems_overview_2019_20210215.xlsx',\n",
       " './Table-surveillance_systems_overview_3 (1).xlsx',\n",
       " './Table-surveillance_systems_overview_3.xlsx',\n",
       " './Table-surveillance_systems_overview_for_2016_0.xlsx']"
      ]
     },
     "execution_count": 1,
     "metadata": {},
     "output_type": "execute_result"
    }
   ],
   "source": []
  },
  {
   "cell_type": "code",
   "execution_count": 2,
   "metadata": {},
   "outputs": [
    {
     "ename": "FileNotFoundError",
     "evalue": "[Errno 2] No such file or directory: 'ECDC_surveillance_data_Chikungunya_virus_disease.csv'",
     "output_type": "error",
     "traceback": [
      "\u001b[1;31m---------------------------------------------------------------------------\u001b[0m",
      "\u001b[1;31mFileNotFoundError\u001b[0m                         Traceback (most recent call last)",
      "Cell \u001b[1;32mIn [2], line 2\u001b[0m\n\u001b[0;32m      1\u001b[0m \u001b[39mimport\u001b[39;00m \u001b[39mpandas\u001b[39;00m \u001b[39mas\u001b[39;00m \u001b[39mpd\u001b[39;00m\n\u001b[1;32m----> 2\u001b[0m df \u001b[39m=\u001b[39m pd\u001b[39m.\u001b[39;49mread_csv(\u001b[39m\"\u001b[39;49m\u001b[39mECDC_surveillance_data_Chikungunya_virus_disease.csv\u001b[39;49m\u001b[39m\"\u001b[39;49m)\n",
      "File \u001b[1;32mc:\\Users\\Glueg\\AppData\\Local\\Programs\\Python\\Python311\\Lib\\site-packages\\pandas\\util\\_decorators.py:211\u001b[0m, in \u001b[0;36mdeprecate_kwarg.<locals>._deprecate_kwarg.<locals>.wrapper\u001b[1;34m(*args, **kwargs)\u001b[0m\n\u001b[0;32m    209\u001b[0m     \u001b[39melse\u001b[39;00m:\n\u001b[0;32m    210\u001b[0m         kwargs[new_arg_name] \u001b[39m=\u001b[39m new_arg_value\n\u001b[1;32m--> 211\u001b[0m \u001b[39mreturn\u001b[39;00m func(\u001b[39m*\u001b[39;49margs, \u001b[39m*\u001b[39;49m\u001b[39m*\u001b[39;49mkwargs)\n",
      "File \u001b[1;32mc:\\Users\\Glueg\\AppData\\Local\\Programs\\Python\\Python311\\Lib\\site-packages\\pandas\\util\\_decorators.py:331\u001b[0m, in \u001b[0;36mdeprecate_nonkeyword_arguments.<locals>.decorate.<locals>.wrapper\u001b[1;34m(*args, **kwargs)\u001b[0m\n\u001b[0;32m    325\u001b[0m \u001b[39mif\u001b[39;00m \u001b[39mlen\u001b[39m(args) \u001b[39m>\u001b[39m num_allow_args:\n\u001b[0;32m    326\u001b[0m     warnings\u001b[39m.\u001b[39mwarn(\n\u001b[0;32m    327\u001b[0m         msg\u001b[39m.\u001b[39mformat(arguments\u001b[39m=\u001b[39m_format_argument_list(allow_args)),\n\u001b[0;32m    328\u001b[0m         \u001b[39mFutureWarning\u001b[39;00m,\n\u001b[0;32m    329\u001b[0m         stacklevel\u001b[39m=\u001b[39mfind_stack_level(),\n\u001b[0;32m    330\u001b[0m     )\n\u001b[1;32m--> 331\u001b[0m \u001b[39mreturn\u001b[39;00m func(\u001b[39m*\u001b[39;49margs, \u001b[39m*\u001b[39;49m\u001b[39m*\u001b[39;49mkwargs)\n",
      "File \u001b[1;32mc:\\Users\\Glueg\\AppData\\Local\\Programs\\Python\\Python311\\Lib\\site-packages\\pandas\\io\\parsers\\readers.py:950\u001b[0m, in \u001b[0;36mread_csv\u001b[1;34m(filepath_or_buffer, sep, delimiter, header, names, index_col, usecols, squeeze, prefix, mangle_dupe_cols, dtype, engine, converters, true_values, false_values, skipinitialspace, skiprows, skipfooter, nrows, na_values, keep_default_na, na_filter, verbose, skip_blank_lines, parse_dates, infer_datetime_format, keep_date_col, date_parser, dayfirst, cache_dates, iterator, chunksize, compression, thousands, decimal, lineterminator, quotechar, quoting, doublequote, escapechar, comment, encoding, encoding_errors, dialect, error_bad_lines, warn_bad_lines, on_bad_lines, delim_whitespace, low_memory, memory_map, float_precision, storage_options)\u001b[0m\n\u001b[0;32m    935\u001b[0m kwds_defaults \u001b[39m=\u001b[39m _refine_defaults_read(\n\u001b[0;32m    936\u001b[0m     dialect,\n\u001b[0;32m    937\u001b[0m     delimiter,\n\u001b[1;32m   (...)\u001b[0m\n\u001b[0;32m    946\u001b[0m     defaults\u001b[39m=\u001b[39m{\u001b[39m\"\u001b[39m\u001b[39mdelimiter\u001b[39m\u001b[39m\"\u001b[39m: \u001b[39m\"\u001b[39m\u001b[39m,\u001b[39m\u001b[39m\"\u001b[39m},\n\u001b[0;32m    947\u001b[0m )\n\u001b[0;32m    948\u001b[0m kwds\u001b[39m.\u001b[39mupdate(kwds_defaults)\n\u001b[1;32m--> 950\u001b[0m \u001b[39mreturn\u001b[39;00m _read(filepath_or_buffer, kwds)\n",
      "File \u001b[1;32mc:\\Users\\Glueg\\AppData\\Local\\Programs\\Python\\Python311\\Lib\\site-packages\\pandas\\io\\parsers\\readers.py:605\u001b[0m, in \u001b[0;36m_read\u001b[1;34m(filepath_or_buffer, kwds)\u001b[0m\n\u001b[0;32m    602\u001b[0m _validate_names(kwds\u001b[39m.\u001b[39mget(\u001b[39m\"\u001b[39m\u001b[39mnames\u001b[39m\u001b[39m\"\u001b[39m, \u001b[39mNone\u001b[39;00m))\n\u001b[0;32m    604\u001b[0m \u001b[39m# Create the parser.\u001b[39;00m\n\u001b[1;32m--> 605\u001b[0m parser \u001b[39m=\u001b[39m TextFileReader(filepath_or_buffer, \u001b[39m*\u001b[39;49m\u001b[39m*\u001b[39;49mkwds)\n\u001b[0;32m    607\u001b[0m \u001b[39mif\u001b[39;00m chunksize \u001b[39mor\u001b[39;00m iterator:\n\u001b[0;32m    608\u001b[0m     \u001b[39mreturn\u001b[39;00m parser\n",
      "File \u001b[1;32mc:\\Users\\Glueg\\AppData\\Local\\Programs\\Python\\Python311\\Lib\\site-packages\\pandas\\io\\parsers\\readers.py:1442\u001b[0m, in \u001b[0;36mTextFileReader.__init__\u001b[1;34m(self, f, engine, **kwds)\u001b[0m\n\u001b[0;32m   1439\u001b[0m     \u001b[39mself\u001b[39m\u001b[39m.\u001b[39moptions[\u001b[39m\"\u001b[39m\u001b[39mhas_index_names\u001b[39m\u001b[39m\"\u001b[39m] \u001b[39m=\u001b[39m kwds[\u001b[39m\"\u001b[39m\u001b[39mhas_index_names\u001b[39m\u001b[39m\"\u001b[39m]\n\u001b[0;32m   1441\u001b[0m \u001b[39mself\u001b[39m\u001b[39m.\u001b[39mhandles: IOHandles \u001b[39m|\u001b[39m \u001b[39mNone\u001b[39;00m \u001b[39m=\u001b[39m \u001b[39mNone\u001b[39;00m\n\u001b[1;32m-> 1442\u001b[0m \u001b[39mself\u001b[39m\u001b[39m.\u001b[39m_engine \u001b[39m=\u001b[39m \u001b[39mself\u001b[39;49m\u001b[39m.\u001b[39;49m_make_engine(f, \u001b[39mself\u001b[39;49m\u001b[39m.\u001b[39;49mengine)\n",
      "File \u001b[1;32mc:\\Users\\Glueg\\AppData\\Local\\Programs\\Python\\Python311\\Lib\\site-packages\\pandas\\io\\parsers\\readers.py:1735\u001b[0m, in \u001b[0;36mTextFileReader._make_engine\u001b[1;34m(self, f, engine)\u001b[0m\n\u001b[0;32m   1733\u001b[0m     \u001b[39mif\u001b[39;00m \u001b[39m\"\u001b[39m\u001b[39mb\u001b[39m\u001b[39m\"\u001b[39m \u001b[39mnot\u001b[39;00m \u001b[39min\u001b[39;00m mode:\n\u001b[0;32m   1734\u001b[0m         mode \u001b[39m+\u001b[39m\u001b[39m=\u001b[39m \u001b[39m\"\u001b[39m\u001b[39mb\u001b[39m\u001b[39m\"\u001b[39m\n\u001b[1;32m-> 1735\u001b[0m \u001b[39mself\u001b[39m\u001b[39m.\u001b[39mhandles \u001b[39m=\u001b[39m get_handle(\n\u001b[0;32m   1736\u001b[0m     f,\n\u001b[0;32m   1737\u001b[0m     mode,\n\u001b[0;32m   1738\u001b[0m     encoding\u001b[39m=\u001b[39;49m\u001b[39mself\u001b[39;49m\u001b[39m.\u001b[39;49moptions\u001b[39m.\u001b[39;49mget(\u001b[39m\"\u001b[39;49m\u001b[39mencoding\u001b[39;49m\u001b[39m\"\u001b[39;49m, \u001b[39mNone\u001b[39;49;00m),\n\u001b[0;32m   1739\u001b[0m     compression\u001b[39m=\u001b[39;49m\u001b[39mself\u001b[39;49m\u001b[39m.\u001b[39;49moptions\u001b[39m.\u001b[39;49mget(\u001b[39m\"\u001b[39;49m\u001b[39mcompression\u001b[39;49m\u001b[39m\"\u001b[39;49m, \u001b[39mNone\u001b[39;49;00m),\n\u001b[0;32m   1740\u001b[0m     memory_map\u001b[39m=\u001b[39;49m\u001b[39mself\u001b[39;49m\u001b[39m.\u001b[39;49moptions\u001b[39m.\u001b[39;49mget(\u001b[39m\"\u001b[39;49m\u001b[39mmemory_map\u001b[39;49m\u001b[39m\"\u001b[39;49m, \u001b[39mFalse\u001b[39;49;00m),\n\u001b[0;32m   1741\u001b[0m     is_text\u001b[39m=\u001b[39;49mis_text,\n\u001b[0;32m   1742\u001b[0m     errors\u001b[39m=\u001b[39;49m\u001b[39mself\u001b[39;49m\u001b[39m.\u001b[39;49moptions\u001b[39m.\u001b[39;49mget(\u001b[39m\"\u001b[39;49m\u001b[39mencoding_errors\u001b[39;49m\u001b[39m\"\u001b[39;49m, \u001b[39m\"\u001b[39;49m\u001b[39mstrict\u001b[39;49m\u001b[39m\"\u001b[39;49m),\n\u001b[0;32m   1743\u001b[0m     storage_options\u001b[39m=\u001b[39;49m\u001b[39mself\u001b[39;49m\u001b[39m.\u001b[39;49moptions\u001b[39m.\u001b[39;49mget(\u001b[39m\"\u001b[39;49m\u001b[39mstorage_options\u001b[39;49m\u001b[39m\"\u001b[39;49m, \u001b[39mNone\u001b[39;49;00m),\n\u001b[0;32m   1744\u001b[0m )\n\u001b[0;32m   1745\u001b[0m \u001b[39massert\u001b[39;00m \u001b[39mself\u001b[39m\u001b[39m.\u001b[39mhandles \u001b[39mis\u001b[39;00m \u001b[39mnot\u001b[39;00m \u001b[39mNone\u001b[39;00m\n\u001b[0;32m   1746\u001b[0m f \u001b[39m=\u001b[39m \u001b[39mself\u001b[39m\u001b[39m.\u001b[39mhandles\u001b[39m.\u001b[39mhandle\n",
      "File \u001b[1;32mc:\\Users\\Glueg\\AppData\\Local\\Programs\\Python\\Python311\\Lib\\site-packages\\pandas\\io\\common.py:856\u001b[0m, in \u001b[0;36mget_handle\u001b[1;34m(path_or_buf, mode, encoding, compression, memory_map, is_text, errors, storage_options)\u001b[0m\n\u001b[0;32m    851\u001b[0m \u001b[39melif\u001b[39;00m \u001b[39misinstance\u001b[39m(handle, \u001b[39mstr\u001b[39m):\n\u001b[0;32m    852\u001b[0m     \u001b[39m# Check whether the filename is to be opened in binary mode.\u001b[39;00m\n\u001b[0;32m    853\u001b[0m     \u001b[39m# Binary mode does not support 'encoding' and 'newline'.\u001b[39;00m\n\u001b[0;32m    854\u001b[0m     \u001b[39mif\u001b[39;00m ioargs\u001b[39m.\u001b[39mencoding \u001b[39mand\u001b[39;00m \u001b[39m\"\u001b[39m\u001b[39mb\u001b[39m\u001b[39m\"\u001b[39m \u001b[39mnot\u001b[39;00m \u001b[39min\u001b[39;00m ioargs\u001b[39m.\u001b[39mmode:\n\u001b[0;32m    855\u001b[0m         \u001b[39m# Encoding\u001b[39;00m\n\u001b[1;32m--> 856\u001b[0m         handle \u001b[39m=\u001b[39m \u001b[39mopen\u001b[39;49m(\n\u001b[0;32m    857\u001b[0m             handle,\n\u001b[0;32m    858\u001b[0m             ioargs\u001b[39m.\u001b[39;49mmode,\n\u001b[0;32m    859\u001b[0m             encoding\u001b[39m=\u001b[39;49mioargs\u001b[39m.\u001b[39;49mencoding,\n\u001b[0;32m    860\u001b[0m             errors\u001b[39m=\u001b[39;49merrors,\n\u001b[0;32m    861\u001b[0m             newline\u001b[39m=\u001b[39;49m\u001b[39m\"\u001b[39;49m\u001b[39m\"\u001b[39;49m,\n\u001b[0;32m    862\u001b[0m         )\n\u001b[0;32m    863\u001b[0m     \u001b[39melse\u001b[39;00m:\n\u001b[0;32m    864\u001b[0m         \u001b[39m# Binary mode\u001b[39;00m\n\u001b[0;32m    865\u001b[0m         handle \u001b[39m=\u001b[39m \u001b[39mopen\u001b[39m(handle, ioargs\u001b[39m.\u001b[39mmode)\n",
      "\u001b[1;31mFileNotFoundError\u001b[0m: [Errno 2] No such file or directory: 'ECDC_surveillance_data_Chikungunya_virus_disease.csv'"
     ]
    }
   ],
   "source": [
    "import pandas as pd\n",
    "df = pd.read_csv(\"ECDC_surveillance_data_Chikungunya_virus_disease.csv\")"
   ]
  },
  {
   "cell_type": "code",
   "execution_count": 4,
   "metadata": {},
   "outputs": [],
   "source": [
    "import pycountry\n",
    "\n",
    "def getCountryCode(x):\n",
    "    try:\n",
    "        return pycountry.countries.get(name=x).alpha_3\n",
    "    except:\n",
    "        return None\n",
    "\n",
    "#df[\"CountryCode\"] = df[\"RegionName\"].apply(getCountryCode)\n",
    "\n",
    "#df[\"CountryCode\"]"
   ]
  },
  {
   "cell_type": "code",
   "execution_count": 5,
   "metadata": {},
   "outputs": [
    {
     "name": "stdout",
     "output_type": "stream",
     "text": [
      "US\n"
     ]
    }
   ],
   "source": [
    "print(getCountryCode(\"United States\"))"
   ]
  },
  {
   "cell_type": "code",
   "execution_count": 37,
   "metadata": {},
   "outputs": [],
   "source": [
    "s_df = df[df[\"Location\"].notna()]"
   ]
  },
  {
   "cell_type": "code",
   "execution_count": 40,
   "metadata": {},
   "outputs": [],
   "source": [
    "import pandas as pd\n",
    "\n",
    "df = pd.read_csv(\"data/TotalCaseEurope.csv\")\n",
    "\n",
    "df = df[['Time', 'RegionName', 'NumValue']]\n",
    "\n",
    "df = df[df[\"RegionName\"] != \"EU/EEA\"]\n",
    "df = df[df[\"RegionName\"] != \"EU\"]\n",
    "df[\"CountryCode\"] = df[\"RegionName\"].apply(getCountryCode)\n",
    "\n",
    "df.to_csv(\"cleaned/TotalCasesEurope.csv\", index=False)"
   ]
  },
  {
   "cell_type": "code",
   "execution_count": 58,
   "metadata": {},
   "outputs": [],
   "source": [
    "import pandas as pd\n",
    "\n",
    "def formalizeAmericanDf(year):\n",
    "    df = pd.read_csv(\"data/TotalCaseAmerica\"+str(year)+\".csv\")\n",
    "\n",
    "    #Keep only interesting rows\n",
    "    df = df[['Country or Subregion', 'Measure Values']]\n",
    "    #Rename for consistency\n",
    "    df = df.rename(columns={\"Country or Subregion\": \"RegionName\", \"Measure Values\": \"NumValue\"}, errors=\"raise\")\n",
    "    #Add row for the year\n",
    "    df[\"Time\"]=[str(year)]*len(df)\n",
    "    #Correct the name of the United States\n",
    "    df.loc[df[\"RegionName\"] == \"United States of America\", 'RegionName'] = \"United States\"\n",
    "    #Add the country code\n",
    "    df[\"CountryCode\"] = df[\"RegionName\"].apply(getCountryCode)\n",
    "    #Remove Weird countries or agglomerations\n",
    "    df = df[df[\"CountryCode\"].notna()]\n",
    "\n",
    "    return df\n",
    "\n",
    "tmp = []\n",
    "for year in range(2019, 2023):\n",
    "    tmp.append(formalizeAmericanDf(year))\n",
    "pd.concat(tmp).to_csv(\"cleaned/TotalCasesAmerica.csv\", index=False)"
   ]
  },
  {
   "cell_type": "code",
   "execution_count": 59,
   "metadata": {},
   "outputs": [],
   "source": [
    "from geopy.geocoders import Nominatim\n",
    "import numpy as np\n",
    "\n",
    "geolocator = Nominatim(user_agent=\"chickungunyalocation\")\n",
    "def geolocate(country):\n",
    "    try:\n",
    "        loc = geolocator.geocode(country)\n",
    "        return (loc.latitude, loc.longitude)\n",
    "    except:\n",
    "        return np.nan\n",
    "europe = pd.read_csv(\"cleaned/TotalCasesEurope.csv\")\n",
    "america = pd.read_csv(\"cleaned/TotalCasesEurope.csv\")\n",
    "europe[\"Location\"] = europe[\"CountryCode\"].apply(geolocate)\n",
    "america[\"Location\"] = america[\"CountryCode\"].apply(geolocate)"
   ]
  },
  {
   "cell_type": "code",
   "execution_count": 66,
   "metadata": {},
   "outputs": [
    {
     "data": {
      "text/plain": [
       "'14.12456'"
      ]
     },
     "execution_count": 66,
     "metadata": {},
     "output_type": "execute_result"
    }
   ],
   "source": [
    "\n",
    "europe = pd.read_csv(\"cleaned/TotalCasesEurope.csv\")\n",
    "europe.iloc[0]['Location'].split(\", \")[0][1:]\n",
    "europe.iloc[0]['Location'].split(\", \")[1][:-1]\n"
   ]
  },
  {
   "cell_type": "code",
   "execution_count": null,
   "metadata": {},
   "outputs": [],
   "source": [
    "def groupbysumdf(df):"
   ]
  },
  {
   "cell_type": "code",
   "execution_count": 100,
   "metadata": {},
   "outputs": [
    {
     "data": {
      "text/html": [
       "<div>\n",
       "<style scoped>\n",
       "    .dataframe tbody tr th:only-of-type {\n",
       "        vertical-align: middle;\n",
       "    }\n",
       "\n",
       "    .dataframe tbody tr th {\n",
       "        vertical-align: top;\n",
       "    }\n",
       "\n",
       "    .dataframe thead th {\n",
       "        text-align: right;\n",
       "    }\n",
       "</style>\n",
       "<table border=\"1\" class=\"dataframe\">\n",
       "  <thead>\n",
       "    <tr style=\"text-align: right;\">\n",
       "      <th></th>\n",
       "      <th>CountryCode</th>\n",
       "      <th>RegionName</th>\n",
       "      <th>Location</th>\n",
       "      <th>NumValue</th>\n",
       "    </tr>\n",
       "  </thead>\n",
       "  <tbody>\n",
       "    <tr>\n",
       "      <th>0</th>\n",
       "      <td>AT</td>\n",
       "      <td>Austria</td>\n",
       "      <td>(47.59397, 14.12456)</td>\n",
       "      <td>44.0</td>\n",
       "    </tr>\n",
       "    <tr>\n",
       "      <th>1</th>\n",
       "      <td>BE</td>\n",
       "      <td>Belgium</td>\n",
       "      <td>(50.6402809, 4.6667145)</td>\n",
       "      <td>265.0</td>\n",
       "    </tr>\n",
       "    <tr>\n",
       "      <th>2</th>\n",
       "      <td>CZ</td>\n",
       "      <td>Czechia</td>\n",
       "      <td>(49.7439047, 15.3381061)</td>\n",
       "      <td>32.0</td>\n",
       "    </tr>\n",
       "    <tr>\n",
       "      <th>3</th>\n",
       "      <td>DE</td>\n",
       "      <td>Germany</td>\n",
       "      <td>(51.1638175, 10.4478313)</td>\n",
       "      <td>668.0</td>\n",
       "    </tr>\n",
       "    <tr>\n",
       "      <th>4</th>\n",
       "      <td>EE</td>\n",
       "      <td>Estonia</td>\n",
       "      <td>(58.7523778, 25.3319078)</td>\n",
       "      <td>0.0</td>\n",
       "    </tr>\n",
       "    <tr>\n",
       "      <th>5</th>\n",
       "      <td>ES</td>\n",
       "      <td>Spain</td>\n",
       "      <td>(39.3260685, -4.8379791)</td>\n",
       "      <td>764.0</td>\n",
       "    </tr>\n",
       "    <tr>\n",
       "      <th>6</th>\n",
       "      <td>FI</td>\n",
       "      <td>Finland</td>\n",
       "      <td>(63.2467777, 25.9209164)</td>\n",
       "      <td>38.0</td>\n",
       "    </tr>\n",
       "    <tr>\n",
       "      <th>7</th>\n",
       "      <td>FR</td>\n",
       "      <td>France</td>\n",
       "      <td>(46.603354, 1.8883335)</td>\n",
       "      <td>1167.0</td>\n",
       "    </tr>\n",
       "    <tr>\n",
       "      <th>8</th>\n",
       "      <td>GB</td>\n",
       "      <td>United Kingdom</td>\n",
       "      <td>(54.7023545, -3.2765753)</td>\n",
       "      <td>1038.0</td>\n",
       "    </tr>\n",
       "    <tr>\n",
       "      <th>9</th>\n",
       "      <td>GR</td>\n",
       "      <td>Greece</td>\n",
       "      <td>(38.9953683, 21.9877132)</td>\n",
       "      <td>2.0</td>\n",
       "    </tr>\n",
       "    <tr>\n",
       "      <th>10</th>\n",
       "      <td>HR</td>\n",
       "      <td>Croatia</td>\n",
       "      <td>(45.5643442, 17.0118954)</td>\n",
       "      <td>0.0</td>\n",
       "    </tr>\n",
       "    <tr>\n",
       "      <th>11</th>\n",
       "      <td>HU</td>\n",
       "      <td>Hungary</td>\n",
       "      <td>(47.1817585, 19.5060937)</td>\n",
       "      <td>14.0</td>\n",
       "    </tr>\n",
       "    <tr>\n",
       "      <th>12</th>\n",
       "      <td>IE</td>\n",
       "      <td>Ireland</td>\n",
       "      <td>(52.865196, -7.9794599)</td>\n",
       "      <td>4.0</td>\n",
       "    </tr>\n",
       "    <tr>\n",
       "      <th>13</th>\n",
       "      <td>IT</td>\n",
       "      <td>Italy</td>\n",
       "      <td>(42.6384261, 12.674297)</td>\n",
       "      <td>427.0</td>\n",
       "    </tr>\n",
       "    <tr>\n",
       "      <th>14</th>\n",
       "      <td>LI</td>\n",
       "      <td>Liechtenstein</td>\n",
       "      <td>(47.1416307, 9.5531527)</td>\n",
       "      <td>0.0</td>\n",
       "    </tr>\n",
       "    <tr>\n",
       "      <th>15</th>\n",
       "      <td>LT</td>\n",
       "      <td>Lithuania</td>\n",
       "      <td>(55.3500003, 23.7499997)</td>\n",
       "      <td>0.0</td>\n",
       "    </tr>\n",
       "    <tr>\n",
       "      <th>16</th>\n",
       "      <td>LU</td>\n",
       "      <td>Luxembourg</td>\n",
       "      <td>(51.0012996, 22.7748497)</td>\n",
       "      <td>1.0</td>\n",
       "    </tr>\n",
       "    <tr>\n",
       "      <th>17</th>\n",
       "      <td>LV</td>\n",
       "      <td>Latvia</td>\n",
       "      <td>(56.8406494, 24.7537645)</td>\n",
       "      <td>2.0</td>\n",
       "    </tr>\n",
       "    <tr>\n",
       "      <th>18</th>\n",
       "      <td>MT</td>\n",
       "      <td>Malta</td>\n",
       "      <td>(35.8885993, 14.4476911)</td>\n",
       "      <td>1.0</td>\n",
       "    </tr>\n",
       "    <tr>\n",
       "      <th>19</th>\n",
       "      <td>NL</td>\n",
       "      <td>Netherlands</td>\n",
       "      <td>(52.24764975, 5.541246849406163)</td>\n",
       "      <td>64.0</td>\n",
       "    </tr>\n",
       "    <tr>\n",
       "      <th>20</th>\n",
       "      <td>PL</td>\n",
       "      <td>Poland</td>\n",
       "      <td>(52.215933, 19.134422)</td>\n",
       "      <td>2.0</td>\n",
       "    </tr>\n",
       "    <tr>\n",
       "      <th>21</th>\n",
       "      <td>PT</td>\n",
       "      <td>Portugal</td>\n",
       "      <td>(39.6621648, -8.1353519)</td>\n",
       "      <td>4.0</td>\n",
       "    </tr>\n",
       "    <tr>\n",
       "      <th>22</th>\n",
       "      <td>RO</td>\n",
       "      <td>Romania</td>\n",
       "      <td>(45.9852129, 24.6859225)</td>\n",
       "      <td>2.0</td>\n",
       "    </tr>\n",
       "    <tr>\n",
       "      <th>23</th>\n",
       "      <td>SE</td>\n",
       "      <td>Sweden</td>\n",
       "      <td>(59.6749712, 14.5208584)</td>\n",
       "      <td>164.0</td>\n",
       "    </tr>\n",
       "    <tr>\n",
       "      <th>24</th>\n",
       "      <td>SI</td>\n",
       "      <td>Slovenia</td>\n",
       "      <td>(45.8133113, 14.4808369)</td>\n",
       "      <td>2.0</td>\n",
       "    </tr>\n",
       "    <tr>\n",
       "      <th>25</th>\n",
       "      <td>SK</td>\n",
       "      <td>Slovakia</td>\n",
       "      <td>(48.7411522, 19.4528646)</td>\n",
       "      <td>0.0</td>\n",
       "    </tr>\n",
       "  </tbody>\n",
       "</table>\n",
       "</div>"
      ],
      "text/plain": [
       "   CountryCode      RegionName                          Location  NumValue\n",
       "0           AT         Austria              (47.59397, 14.12456)      44.0\n",
       "1           BE         Belgium           (50.6402809, 4.6667145)     265.0\n",
       "2           CZ         Czechia          (49.7439047, 15.3381061)      32.0\n",
       "3           DE         Germany          (51.1638175, 10.4478313)     668.0\n",
       "4           EE         Estonia          (58.7523778, 25.3319078)       0.0\n",
       "5           ES           Spain          (39.3260685, -4.8379791)     764.0\n",
       "6           FI         Finland          (63.2467777, 25.9209164)      38.0\n",
       "7           FR          France            (46.603354, 1.8883335)    1167.0\n",
       "8           GB  United Kingdom          (54.7023545, -3.2765753)    1038.0\n",
       "9           GR          Greece          (38.9953683, 21.9877132)       2.0\n",
       "10          HR         Croatia          (45.5643442, 17.0118954)       0.0\n",
       "11          HU         Hungary          (47.1817585, 19.5060937)      14.0\n",
       "12          IE         Ireland           (52.865196, -7.9794599)       4.0\n",
       "13          IT           Italy           (42.6384261, 12.674297)     427.0\n",
       "14          LI   Liechtenstein           (47.1416307, 9.5531527)       0.0\n",
       "15          LT       Lithuania          (55.3500003, 23.7499997)       0.0\n",
       "16          LU      Luxembourg          (51.0012996, 22.7748497)       1.0\n",
       "17          LV          Latvia          (56.8406494, 24.7537645)       2.0\n",
       "18          MT           Malta          (35.8885993, 14.4476911)       1.0\n",
       "19          NL     Netherlands  (52.24764975, 5.541246849406163)      64.0\n",
       "20          PL          Poland            (52.215933, 19.134422)       2.0\n",
       "21          PT        Portugal          (39.6621648, -8.1353519)       4.0\n",
       "22          RO         Romania          (45.9852129, 24.6859225)       2.0\n",
       "23          SE          Sweden          (59.6749712, 14.5208584)     164.0\n",
       "24          SI        Slovenia          (45.8133113, 14.4808369)       2.0\n",
       "25          SK        Slovakia          (48.7411522, 19.4528646)       0.0"
      ]
     },
     "execution_count": 100,
     "metadata": {},
     "output_type": "execute_result"
    }
   ],
   "source": [
    "europe = pd.read_csv(\"cleaned/TotalCasesEurope.csv\")\n",
    "europe[['CountryCode', \"RegionName\", \"Location\", \"NumValue\"]].groupby(['CountryCode', \"RegionName\", \"Location\"]).sum().reset_index()"
   ]
  },
  {
   "cell_type": "code",
   "execution_count": 1,
   "metadata": {},
   "outputs": [
    {
     "ename": "NameError",
     "evalue": "name 'pd' is not defined",
     "output_type": "error",
     "traceback": [
      "\u001b[1;31m---------------------------------------------------------------------------\u001b[0m",
      "\u001b[1;31mNameError\u001b[0m                                 Traceback (most recent call last)",
      "Cell \u001b[1;32mIn [1], line 5\u001b[0m\n\u001b[0;32m      2\u001b[0m \u001b[39mfrom\u001b[39;00m \u001b[39mfolium\u001b[39;00m\u001b[39m.\u001b[39;00m\u001b[39mplugins\u001b[39;00m \u001b[39mimport\u001b[39;00m MarkerCluster\n\u001b[0;32m      3\u001b[0m \u001b[39mimport\u001b[39;00m \u001b[39mmath\u001b[39;00m\n\u001b[1;32m----> 5\u001b[0m europe \u001b[39m=\u001b[39m pd\u001b[39m.\u001b[39mread_csv(\u001b[39m\"\u001b[39m\u001b[39mcleaned/TotalCasesEurope.csv\u001b[39m\u001b[39m\"\u001b[39m)\n\u001b[0;32m      6\u001b[0m america \u001b[39m=\u001b[39m pd\u001b[39m.\u001b[39mread_csv(\u001b[39m\"\u001b[39m\u001b[39mcleaned/TotalCasesAmerica.csv\u001b[39m\u001b[39m\"\u001b[39m)\n\u001b[0;32m      8\u001b[0m world_map\u001b[39m=\u001b[39m folium\u001b[39m.\u001b[39mMap(tiles\u001b[39m=\u001b[39m\u001b[39m\"\u001b[39m\u001b[39mcartodbpositron\u001b[39m\u001b[39m\"\u001b[39m)\n",
      "\u001b[1;31mNameError\u001b[0m: name 'pd' is not defined"
     ]
    }
   ],
   "source": [
    "import folium\n",
    "from folium.plugins import MarkerCluster\n",
    "import math\n",
    "\n",
    "europe = pd.read_csv(\"cleaned/TotalCasesEurope.csv\")\n",
    "america = pd.read_csv(\"cleaned/TotalCasesAmerica.csv\")\n",
    "\n",
    "world_map= folium.Map(tiles=\"cartodbpositron\")\n",
    "marker_cluster = MarkerCluster().add_to(world_map)\n",
    "\n",
    "def addMarkers(df):\n",
    "    for i in range(len(df)):\n",
    "        if not isinstance(df.iloc[i]['Location'], str):\n",
    "            continue\n",
    "        lat = df.iloc[i]['Location'].split(\", \")[0][1:]\n",
    "        long = df.iloc[i]['Location'].split(\", \")[1][:-1]\n",
    "        val = int(df.iloc[i]['NumValue']) if not math.isnan(df.iloc[i]['NumValue']) else 0\n",
    "        #print(df.iloc[i]['RegionName'], lat, long, val)\n",
    "        radius=0\n",
    "        popup_text = \"\"\"Country : {}<br> %of Users : {}<br>\"\"\"\n",
    "        popup_text = popup_text.format(df.iloc[i]['RegionName'], val)\n",
    "        \n",
    "        folium.CircleMarker(location = [lat, long], radius=radius).add_to(marker_cluster)\n",
    "\n",
    "\n",
    "addMarkers(europe)\n",
    "addMarkers(america)\n",
    "\n",
    "#addMarkers(europe[['CountryCode', \"RegionName\", \"Location\", \"NumValue\"]].groupby(['CountryCode', \"RegionName\", \"Location\"]).sum().reset_index())\n",
    "#addMarkers(america[['CountryCode', \"RegionName\", \"Location\", \"NumValue\"]].groupby(['CountryCode', \"RegionName\", \"Location\"]).sum().reset_index())\n",
    "world_map"
   ]
  },
  {
   "cell_type": "code",
   "execution_count": 10,
   "metadata": {},
   "outputs": [
    {
     "data": {
      "application/vnd.plotly.v1+json": {
       "config": {
        "plotlyServerURL": "https://plot.ly"
       },
       "data": [
        {
         "coloraxis": "coloraxis",
         "geo": "geo",
         "hovertemplate": "<b>%{hovertext}</b><br><br>CountryCode=%{location}<br>NumValue=%{z}<extra></extra>",
         "hovertext": [
          "Austria",
          "Belgium",
          "Czechia",
          "Germany",
          "Spain",
          "Estonia",
          "Finland",
          "France",
          "United Kingdom",
          "Greece",
          "Croatia",
          "Hungary",
          "Ireland",
          "Italy",
          "Liechtenstein",
          "Lithuania",
          "Luxembourg",
          "Latvia",
          "Malta",
          "Netherlands",
          "Poland",
          "Portugal",
          "Romania",
          "Slovakia",
          "Slovenia",
          "Sweden",
          "Aruba",
          "Anguilla",
          "Argentina",
          "Antigua and Barbuda",
          "Bahamas",
          "Belize",
          "Bermuda",
          "Brazil",
          "Barbados",
          "Canada",
          "Chile",
          "Colombia",
          "Costa Rica",
          "Cuba",
          "Cayman Islands",
          "Dominica",
          "Dominican Republic",
          "Ecuador",
          "Guadeloupe",
          "Grenada",
          "Guatemala",
          "French Guiana",
          "Guyana",
          "Honduras",
          "Haiti",
          "Jamaica",
          "Saint Kitts and Nevis",
          "Saint Lucia",
          "Mexico",
          "Montserrat",
          "Martinique",
          "Nicaragua",
          "Panama",
          "Peru",
          "Puerto Rico",
          "Paraguay",
          "El Salvador",
          "Suriname",
          "Turks and Caicos Islands",
          "Trinidad and Tobago",
          "Uruguay",
          "United States",
          "Saint Vincent and the Grenadines"
         ],
         "locations": [
          "AUT",
          "BEL",
          "CZE",
          "DEU",
          "ESP",
          "EST",
          "FIN",
          "FRA",
          "GBR",
          "GRC",
          "HRV",
          "HUN",
          "IRL",
          "ITA",
          "LIE",
          "LTU",
          "LUX",
          "LVA",
          "MLT",
          "NLD",
          "POL",
          "PRT",
          "ROU",
          "SVK",
          "SVN",
          "SWE",
          "ABW",
          "AIA",
          "ARG",
          "ATG",
          "BHS",
          "BLZ",
          "BMU",
          "BRA",
          "BRB",
          "CAN",
          "CHL",
          "COL",
          "CRI",
          "CUB",
          "CYM",
          "DMA",
          "DOM",
          "ECU",
          "GLP",
          "GRD",
          "GTM",
          "GUF",
          "GUY",
          "HND",
          "HTI",
          "JAM",
          "KNA",
          "LCA",
          "MEX",
          "MSR",
          "MTQ",
          "NIC",
          "PAN",
          "PER",
          "PRI",
          "PRY",
          "SLV",
          "SUR",
          "TCA",
          "TTO",
          "URY",
          "USA",
          "VCT"
         ],
         "name": "",
         "type": "choropleth",
         "z": [
          44,
          265,
          32,
          668,
          764,
          0,
          38,
          1167,
          1038,
          6,
          0,
          14,
          4,
          427,
          0,
          0,
          1,
          2,
          1,
          64,
          2,
          4,
          2,
          0,
          2,
          164,
          0,
          0,
          0,
          0,
          0,
          5005,
          0,
          674200,
          113,
          0,
          0,
          859,
          255,
          0,
          0,
          0,
          0,
          3,
          0,
          0,
          5157,
          0,
          0,
          349,
          8,
          7,
          0,
          1,
          22,
          0,
          0,
          214,
          22,
          1344,
          0,
          3114,
          1069,
          2,
          0,
          0,
          0,
          0,
          0
         ]
        }
       ],
       "layout": {
        "coloraxis": {
         "colorbar": {
          "title": {
           "text": "NumValue"
          }
         },
         "colorscale": [
          [
           0,
           "#0d0887"
          ],
          [
           0.1111111111111111,
           "#46039f"
          ],
          [
           0.2222222222222222,
           "#7201a8"
          ],
          [
           0.3333333333333333,
           "#9c179e"
          ],
          [
           0.4444444444444444,
           "#bd3786"
          ],
          [
           0.5555555555555556,
           "#d8576b"
          ],
          [
           0.6666666666666666,
           "#ed7953"
          ],
          [
           0.7777777777777778,
           "#fb9f3a"
          ],
          [
           0.8888888888888888,
           "#fdca26"
          ],
          [
           1,
           "#f0f921"
          ]
         ]
        },
        "geo": {
         "center": {},
         "domain": {
          "x": [
           0,
           1
          ],
          "y": [
           0,
           1
          ]
         }
        },
        "legend": {
         "tracegroupgap": 0
        },
        "margin": {
         "t": 60
        },
        "template": {
         "data": {
          "bar": [
           {
            "error_x": {
             "color": "#2a3f5f"
            },
            "error_y": {
             "color": "#2a3f5f"
            },
            "marker": {
             "line": {
              "color": "#E5ECF6",
              "width": 0.5
             },
             "pattern": {
              "fillmode": "overlay",
              "size": 10,
              "solidity": 0.2
             }
            },
            "type": "bar"
           }
          ],
          "barpolar": [
           {
            "marker": {
             "line": {
              "color": "#E5ECF6",
              "width": 0.5
             },
             "pattern": {
              "fillmode": "overlay",
              "size": 10,
              "solidity": 0.2
             }
            },
            "type": "barpolar"
           }
          ],
          "carpet": [
           {
            "aaxis": {
             "endlinecolor": "#2a3f5f",
             "gridcolor": "white",
             "linecolor": "white",
             "minorgridcolor": "white",
             "startlinecolor": "#2a3f5f"
            },
            "baxis": {
             "endlinecolor": "#2a3f5f",
             "gridcolor": "white",
             "linecolor": "white",
             "minorgridcolor": "white",
             "startlinecolor": "#2a3f5f"
            },
            "type": "carpet"
           }
          ],
          "choropleth": [
           {
            "colorbar": {
             "outlinewidth": 0,
             "ticks": ""
            },
            "type": "choropleth"
           }
          ],
          "contour": [
           {
            "colorbar": {
             "outlinewidth": 0,
             "ticks": ""
            },
            "colorscale": [
             [
              0,
              "#0d0887"
             ],
             [
              0.1111111111111111,
              "#46039f"
             ],
             [
              0.2222222222222222,
              "#7201a8"
             ],
             [
              0.3333333333333333,
              "#9c179e"
             ],
             [
              0.4444444444444444,
              "#bd3786"
             ],
             [
              0.5555555555555556,
              "#d8576b"
             ],
             [
              0.6666666666666666,
              "#ed7953"
             ],
             [
              0.7777777777777778,
              "#fb9f3a"
             ],
             [
              0.8888888888888888,
              "#fdca26"
             ],
             [
              1,
              "#f0f921"
             ]
            ],
            "type": "contour"
           }
          ],
          "contourcarpet": [
           {
            "colorbar": {
             "outlinewidth": 0,
             "ticks": ""
            },
            "type": "contourcarpet"
           }
          ],
          "heatmap": [
           {
            "colorbar": {
             "outlinewidth": 0,
             "ticks": ""
            },
            "colorscale": [
             [
              0,
              "#0d0887"
             ],
             [
              0.1111111111111111,
              "#46039f"
             ],
             [
              0.2222222222222222,
              "#7201a8"
             ],
             [
              0.3333333333333333,
              "#9c179e"
             ],
             [
              0.4444444444444444,
              "#bd3786"
             ],
             [
              0.5555555555555556,
              "#d8576b"
             ],
             [
              0.6666666666666666,
              "#ed7953"
             ],
             [
              0.7777777777777778,
              "#fb9f3a"
             ],
             [
              0.8888888888888888,
              "#fdca26"
             ],
             [
              1,
              "#f0f921"
             ]
            ],
            "type": "heatmap"
           }
          ],
          "heatmapgl": [
           {
            "colorbar": {
             "outlinewidth": 0,
             "ticks": ""
            },
            "colorscale": [
             [
              0,
              "#0d0887"
             ],
             [
              0.1111111111111111,
              "#46039f"
             ],
             [
              0.2222222222222222,
              "#7201a8"
             ],
             [
              0.3333333333333333,
              "#9c179e"
             ],
             [
              0.4444444444444444,
              "#bd3786"
             ],
             [
              0.5555555555555556,
              "#d8576b"
             ],
             [
              0.6666666666666666,
              "#ed7953"
             ],
             [
              0.7777777777777778,
              "#fb9f3a"
             ],
             [
              0.8888888888888888,
              "#fdca26"
             ],
             [
              1,
              "#f0f921"
             ]
            ],
            "type": "heatmapgl"
           }
          ],
          "histogram": [
           {
            "marker": {
             "pattern": {
              "fillmode": "overlay",
              "size": 10,
              "solidity": 0.2
             }
            },
            "type": "histogram"
           }
          ],
          "histogram2d": [
           {
            "colorbar": {
             "outlinewidth": 0,
             "ticks": ""
            },
            "colorscale": [
             [
              0,
              "#0d0887"
             ],
             [
              0.1111111111111111,
              "#46039f"
             ],
             [
              0.2222222222222222,
              "#7201a8"
             ],
             [
              0.3333333333333333,
              "#9c179e"
             ],
             [
              0.4444444444444444,
              "#bd3786"
             ],
             [
              0.5555555555555556,
              "#d8576b"
             ],
             [
              0.6666666666666666,
              "#ed7953"
             ],
             [
              0.7777777777777778,
              "#fb9f3a"
             ],
             [
              0.8888888888888888,
              "#fdca26"
             ],
             [
              1,
              "#f0f921"
             ]
            ],
            "type": "histogram2d"
           }
          ],
          "histogram2dcontour": [
           {
            "colorbar": {
             "outlinewidth": 0,
             "ticks": ""
            },
            "colorscale": [
             [
              0,
              "#0d0887"
             ],
             [
              0.1111111111111111,
              "#46039f"
             ],
             [
              0.2222222222222222,
              "#7201a8"
             ],
             [
              0.3333333333333333,
              "#9c179e"
             ],
             [
              0.4444444444444444,
              "#bd3786"
             ],
             [
              0.5555555555555556,
              "#d8576b"
             ],
             [
              0.6666666666666666,
              "#ed7953"
             ],
             [
              0.7777777777777778,
              "#fb9f3a"
             ],
             [
              0.8888888888888888,
              "#fdca26"
             ],
             [
              1,
              "#f0f921"
             ]
            ],
            "type": "histogram2dcontour"
           }
          ],
          "mesh3d": [
           {
            "colorbar": {
             "outlinewidth": 0,
             "ticks": ""
            },
            "type": "mesh3d"
           }
          ],
          "parcoords": [
           {
            "line": {
             "colorbar": {
              "outlinewidth": 0,
              "ticks": ""
             }
            },
            "type": "parcoords"
           }
          ],
          "pie": [
           {
            "automargin": true,
            "type": "pie"
           }
          ],
          "scatter": [
           {
            "fillpattern": {
             "fillmode": "overlay",
             "size": 10,
             "solidity": 0.2
            },
            "type": "scatter"
           }
          ],
          "scatter3d": [
           {
            "line": {
             "colorbar": {
              "outlinewidth": 0,
              "ticks": ""
             }
            },
            "marker": {
             "colorbar": {
              "outlinewidth": 0,
              "ticks": ""
             }
            },
            "type": "scatter3d"
           }
          ],
          "scattercarpet": [
           {
            "marker": {
             "colorbar": {
              "outlinewidth": 0,
              "ticks": ""
             }
            },
            "type": "scattercarpet"
           }
          ],
          "scattergeo": [
           {
            "marker": {
             "colorbar": {
              "outlinewidth": 0,
              "ticks": ""
             }
            },
            "type": "scattergeo"
           }
          ],
          "scattergl": [
           {
            "marker": {
             "colorbar": {
              "outlinewidth": 0,
              "ticks": ""
             }
            },
            "type": "scattergl"
           }
          ],
          "scattermapbox": [
           {
            "marker": {
             "colorbar": {
              "outlinewidth": 0,
              "ticks": ""
             }
            },
            "type": "scattermapbox"
           }
          ],
          "scatterpolar": [
           {
            "marker": {
             "colorbar": {
              "outlinewidth": 0,
              "ticks": ""
             }
            },
            "type": "scatterpolar"
           }
          ],
          "scatterpolargl": [
           {
            "marker": {
             "colorbar": {
              "outlinewidth": 0,
              "ticks": ""
             }
            },
            "type": "scatterpolargl"
           }
          ],
          "scatterternary": [
           {
            "marker": {
             "colorbar": {
              "outlinewidth": 0,
              "ticks": ""
             }
            },
            "type": "scatterternary"
           }
          ],
          "surface": [
           {
            "colorbar": {
             "outlinewidth": 0,
             "ticks": ""
            },
            "colorscale": [
             [
              0,
              "#0d0887"
             ],
             [
              0.1111111111111111,
              "#46039f"
             ],
             [
              0.2222222222222222,
              "#7201a8"
             ],
             [
              0.3333333333333333,
              "#9c179e"
             ],
             [
              0.4444444444444444,
              "#bd3786"
             ],
             [
              0.5555555555555556,
              "#d8576b"
             ],
             [
              0.6666666666666666,
              "#ed7953"
             ],
             [
              0.7777777777777778,
              "#fb9f3a"
             ],
             [
              0.8888888888888888,
              "#fdca26"
             ],
             [
              1,
              "#f0f921"
             ]
            ],
            "type": "surface"
           }
          ],
          "table": [
           {
            "cells": {
             "fill": {
              "color": "#EBF0F8"
             },
             "line": {
              "color": "white"
             }
            },
            "header": {
             "fill": {
              "color": "#C8D4E3"
             },
             "line": {
              "color": "white"
             }
            },
            "type": "table"
           }
          ]
         },
         "layout": {
          "annotationdefaults": {
           "arrowcolor": "#2a3f5f",
           "arrowhead": 0,
           "arrowwidth": 1
          },
          "autotypenumbers": "strict",
          "coloraxis": {
           "colorbar": {
            "outlinewidth": 0,
            "ticks": ""
           }
          },
          "colorscale": {
           "diverging": [
            [
             0,
             "#8e0152"
            ],
            [
             0.1,
             "#c51b7d"
            ],
            [
             0.2,
             "#de77ae"
            ],
            [
             0.3,
             "#f1b6da"
            ],
            [
             0.4,
             "#fde0ef"
            ],
            [
             0.5,
             "#f7f7f7"
            ],
            [
             0.6,
             "#e6f5d0"
            ],
            [
             0.7,
             "#b8e186"
            ],
            [
             0.8,
             "#7fbc41"
            ],
            [
             0.9,
             "#4d9221"
            ],
            [
             1,
             "#276419"
            ]
           ],
           "sequential": [
            [
             0,
             "#0d0887"
            ],
            [
             0.1111111111111111,
             "#46039f"
            ],
            [
             0.2222222222222222,
             "#7201a8"
            ],
            [
             0.3333333333333333,
             "#9c179e"
            ],
            [
             0.4444444444444444,
             "#bd3786"
            ],
            [
             0.5555555555555556,
             "#d8576b"
            ],
            [
             0.6666666666666666,
             "#ed7953"
            ],
            [
             0.7777777777777778,
             "#fb9f3a"
            ],
            [
             0.8888888888888888,
             "#fdca26"
            ],
            [
             1,
             "#f0f921"
            ]
           ],
           "sequentialminus": [
            [
             0,
             "#0d0887"
            ],
            [
             0.1111111111111111,
             "#46039f"
            ],
            [
             0.2222222222222222,
             "#7201a8"
            ],
            [
             0.3333333333333333,
             "#9c179e"
            ],
            [
             0.4444444444444444,
             "#bd3786"
            ],
            [
             0.5555555555555556,
             "#d8576b"
            ],
            [
             0.6666666666666666,
             "#ed7953"
            ],
            [
             0.7777777777777778,
             "#fb9f3a"
            ],
            [
             0.8888888888888888,
             "#fdca26"
            ],
            [
             1,
             "#f0f921"
            ]
           ]
          },
          "colorway": [
           "#636efa",
           "#EF553B",
           "#00cc96",
           "#ab63fa",
           "#FFA15A",
           "#19d3f3",
           "#FF6692",
           "#B6E880",
           "#FF97FF",
           "#FECB52"
          ],
          "font": {
           "color": "#2a3f5f"
          },
          "geo": {
           "bgcolor": "white",
           "lakecolor": "white",
           "landcolor": "#E5ECF6",
           "showlakes": true,
           "showland": true,
           "subunitcolor": "white"
          },
          "hoverlabel": {
           "align": "left"
          },
          "hovermode": "closest",
          "mapbox": {
           "style": "light"
          },
          "paper_bgcolor": "white",
          "plot_bgcolor": "#E5ECF6",
          "polar": {
           "angularaxis": {
            "gridcolor": "white",
            "linecolor": "white",
            "ticks": ""
           },
           "bgcolor": "#E5ECF6",
           "radialaxis": {
            "gridcolor": "white",
            "linecolor": "white",
            "ticks": ""
           }
          },
          "scene": {
           "xaxis": {
            "backgroundcolor": "#E5ECF6",
            "gridcolor": "white",
            "gridwidth": 2,
            "linecolor": "white",
            "showbackground": true,
            "ticks": "",
            "zerolinecolor": "white"
           },
           "yaxis": {
            "backgroundcolor": "#E5ECF6",
            "gridcolor": "white",
            "gridwidth": 2,
            "linecolor": "white",
            "showbackground": true,
            "ticks": "",
            "zerolinecolor": "white"
           },
           "zaxis": {
            "backgroundcolor": "#E5ECF6",
            "gridcolor": "white",
            "gridwidth": 2,
            "linecolor": "white",
            "showbackground": true,
            "ticks": "",
            "zerolinecolor": "white"
           }
          },
          "shapedefaults": {
           "line": {
            "color": "#2a3f5f"
           }
          },
          "ternary": {
           "aaxis": {
            "gridcolor": "white",
            "linecolor": "white",
            "ticks": ""
           },
           "baxis": {
            "gridcolor": "white",
            "linecolor": "white",
            "ticks": ""
           },
           "bgcolor": "#E5ECF6",
           "caxis": {
            "gridcolor": "white",
            "linecolor": "white",
            "ticks": ""
           }
          },
          "title": {
           "x": 0.05
          },
          "xaxis": {
           "automargin": true,
           "gridcolor": "white",
           "linecolor": "white",
           "ticks": "",
           "title": {
            "standoff": 15
           },
           "zerolinecolor": "white",
           "zerolinewidth": 2
          },
          "yaxis": {
           "automargin": true,
           "gridcolor": "white",
           "linecolor": "white",
           "ticks": "",
           "title": {
            "standoff": 15
           },
           "zerolinecolor": "white",
           "zerolinewidth": 2
          }
         }
        }
       }
      }
     },
     "metadata": {},
     "output_type": "display_data"
    }
   ],
   "source": [
    "import plotly.express as px\n",
    "\n",
    "europe = pd.read_csv(\"cleaned/TotalCasesEurope.csv\")\n",
    "europe = europe[['CountryCode', \"RegionName\", \"Location\", \"NumValue\"]].groupby(['CountryCode', \"RegionName\", \"Location\"]).sum().reset_index()\n",
    "\n",
    "america = pd.read_csv(\"cleaned/TotalCasesAmerica.csv\")\n",
    "america = america[['CountryCode', \"RegionName\", \"Location\", \"NumValue\"]].groupby(['CountryCode', \"RegionName\", \"Location\"]).sum().reset_index()\n",
    "\n",
    "df = pd.concat([europe, america])\n",
    "\n",
    "fig = px.choropleth(df, locations=\"CountryCode\",\n",
    "                    color=\"NumValue\", # lifeExp is a column of gapminder\n",
    "                    hover_name=\"RegionName\", # column to add to hover information\n",
    "                    color_continuous_scale=px.colors.sequential.Plasma)\n",
    "fig.show()"
   ]
  },
  {
   "cell_type": "code",
   "execution_count": 18,
   "metadata": {},
   "outputs": [],
   "source": [
    "year = 2022\n",
    "\n",
    "europe = pd.read_csv(\"cleaned/TotalCasesEurope.csv\")\n",
    "europe = europe[europe[\"Time\"] == year]\n",
    "europe = europe[['CountryCode', \"RegionName\", \"Location\", \"NumValue\"]].groupby(['CountryCode', \"RegionName\", \"Location\"]).sum().reset_index()\n",
    "\n",
    "america = pd.read_csv(\"cleaned/TotalCasesAmerica.csv\")\n",
    "america = america[america[\"Time\"] == year]\n",
    "america = america[['CountryCode', \"RegionName\", \"Location\", \"NumValue\"]].groupby(['CountryCode', \"RegionName\", \"Location\"]).sum().reset_index()\n",
    "\n",
    "df = pd.concat([europe, america])"
   ]
  },
  {
   "cell_type": "code",
   "execution_count": 19,
   "metadata": {},
   "outputs": [
    {
     "data": {
      "text/html": [
       "<div>\n",
       "<style scoped>\n",
       "    .dataframe tbody tr th:only-of-type {\n",
       "        vertical-align: middle;\n",
       "    }\n",
       "\n",
       "    .dataframe tbody tr th {\n",
       "        vertical-align: top;\n",
       "    }\n",
       "\n",
       "    .dataframe thead th {\n",
       "        text-align: right;\n",
       "    }\n",
       "</style>\n",
       "<table border=\"1\" class=\"dataframe\">\n",
       "  <thead>\n",
       "    <tr style=\"text-align: right;\">\n",
       "      <th></th>\n",
       "      <th>CountryCode</th>\n",
       "      <th>RegionName</th>\n",
       "      <th>Location</th>\n",
       "      <th>NumValue</th>\n",
       "    </tr>\n",
       "  </thead>\n",
       "  <tbody>\n",
       "    <tr>\n",
       "      <th>7</th>\n",
       "      <td>BRA</td>\n",
       "      <td>Brazil</td>\n",
       "      <td>(44.6976778, 7.8542707)</td>\n",
       "      <td>265289.0</td>\n",
       "    </tr>\n",
       "    <tr>\n",
       "      <th>35</th>\n",
       "      <td>PRY</td>\n",
       "      <td>Paraguay</td>\n",
       "      <td>(50.273814, 4.4326804)</td>\n",
       "      <td>2443.0</td>\n",
       "    </tr>\n",
       "    <tr>\n",
       "      <th>20</th>\n",
       "      <td>GTM</td>\n",
       "      <td>Guatemala</td>\n",
       "      <td>(51.34473215, 12.285764313430338)</td>\n",
       "      <td>1800.0</td>\n",
       "    </tr>\n",
       "    <tr>\n",
       "      <th>33</th>\n",
       "      <td>PER</td>\n",
       "      <td>Peru</td>\n",
       "      <td>(39.6370289, -82.2044367)</td>\n",
       "      <td>595.0</td>\n",
       "    </tr>\n",
       "    <tr>\n",
       "      <th>36</th>\n",
       "      <td>SLV</td>\n",
       "      <td>El Salvador</td>\n",
       "      <td>(37.26398255, -8.348731138182709)</td>\n",
       "      <td>154.0</td>\n",
       "    </tr>\n",
       "    <tr>\n",
       "      <th>11</th>\n",
       "      <td>COL</td>\n",
       "      <td>Colombia</td>\n",
       "      <td>(50.938361, 6.959974)</td>\n",
       "      <td>94.0</td>\n",
       "    </tr>\n",
       "    <tr>\n",
       "      <th>23</th>\n",
       "      <td>HND</td>\n",
       "      <td>Honduras</td>\n",
       "      <td>(22.3511148, 78.6677428)</td>\n",
       "      <td>44.0</td>\n",
       "    </tr>\n",
       "    <tr>\n",
       "      <th>12</th>\n",
       "      <td>CRI</td>\n",
       "      <td>Costa Rica</td>\n",
       "      <td>(19.7589517, 99.6734592)</td>\n",
       "      <td>25.0</td>\n",
       "    </tr>\n",
       "    <tr>\n",
       "      <th>31</th>\n",
       "      <td>NIC</td>\n",
       "      <td>Nicaragua</td>\n",
       "      <td>(40.9357176, 47.6645465)</td>\n",
       "      <td>4.0</td>\n",
       "    </tr>\n",
       "    <tr>\n",
       "      <th>32</th>\n",
       "      <td>PAN</td>\n",
       "      <td>Panama</td>\n",
       "      <td>(35.4338536, 69.7930899)</td>\n",
       "      <td>2.0</td>\n",
       "    </tr>\n",
       "    <tr>\n",
       "      <th>28</th>\n",
       "      <td>MEX</td>\n",
       "      <td>Mexico</td>\n",
       "      <td>(19.4839446, -99.6899716)</td>\n",
       "      <td>2.0</td>\n",
       "    </tr>\n",
       "    <tr>\n",
       "      <th>37</th>\n",
       "      <td>SUR</td>\n",
       "      <td>Suriname</td>\n",
       "      <td>(3.48470445, -76.40282227396737)</td>\n",
       "      <td>0.0</td>\n",
       "    </tr>\n",
       "    <tr>\n",
       "      <th>38</th>\n",
       "      <td>TCA</td>\n",
       "      <td>Turks and Caicos Islands</td>\n",
       "      <td>(-19.6305093, 134.18226892859178)</td>\n",
       "      <td>0.0</td>\n",
       "    </tr>\n",
       "    <tr>\n",
       "      <th>34</th>\n",
       "      <td>PRI</td>\n",
       "      <td>Puerto Rico</td>\n",
       "      <td>(45.0819456, 134.726645)</td>\n",
       "      <td>0.0</td>\n",
       "    </tr>\n",
       "    <tr>\n",
       "      <th>39</th>\n",
       "      <td>TTO</td>\n",
       "      <td>Trinidad and Tobago</td>\n",
       "      <td>(45.81380745, -97.74395892099608)</td>\n",
       "      <td>0.0</td>\n",
       "    </tr>\n",
       "    <tr>\n",
       "      <th>24</th>\n",
       "      <td>HTI</td>\n",
       "      <td>Haiti</td>\n",
       "      <td>(-20.3522845, 148.9480748)</td>\n",
       "      <td>0.0</td>\n",
       "    </tr>\n",
       "    <tr>\n",
       "      <th>40</th>\n",
       "      <td>URY</td>\n",
       "      <td>Uruguay</td>\n",
       "      <td>(48.342555, 2.6048701)</td>\n",
       "      <td>0.0</td>\n",
       "    </tr>\n",
       "    <tr>\n",
       "      <th>30</th>\n",
       "      <td>MTQ</td>\n",
       "      <td>Martinique</td>\n",
       "      <td>(45.7984078, -74.01642739712129)</td>\n",
       "      <td>0.0</td>\n",
       "    </tr>\n",
       "    <tr>\n",
       "      <th>29</th>\n",
       "      <td>MSR</td>\n",
       "      <td>Montserrat</td>\n",
       "      <td>(26.2540493, 29.2675469)</td>\n",
       "      <td>0.0</td>\n",
       "    </tr>\n",
       "    <tr>\n",
       "      <th>27</th>\n",
       "      <td>LCA</td>\n",
       "      <td>Saint Lucia</td>\n",
       "      <td>(22.2967657, 104.0566164)</td>\n",
       "      <td>0.0</td>\n",
       "    </tr>\n",
       "    <tr>\n",
       "      <th>41</th>\n",
       "      <td>USA</td>\n",
       "      <td>United States</td>\n",
       "      <td>(39.7837304, -100.445882)</td>\n",
       "      <td>0.0</td>\n",
       "    </tr>\n",
       "    <tr>\n",
       "      <th>26</th>\n",
       "      <td>KNA</td>\n",
       "      <td>Saint Kitts and Nevis</td>\n",
       "      <td>(-32.94919415, -71.47885980024215)</td>\n",
       "      <td>0.0</td>\n",
       "    </tr>\n",
       "    <tr>\n",
       "      <th>25</th>\n",
       "      <td>JAM</td>\n",
       "      <td>Jamaica</td>\n",
       "      <td>(22.4930279, 70.0535096)</td>\n",
       "      <td>0.0</td>\n",
       "    </tr>\n",
       "    <tr>\n",
       "      <th>0</th>\n",
       "      <td>ABW</td>\n",
       "      <td>Aruba</td>\n",
       "      <td>(11.129167, 42.919722)</td>\n",
       "      <td>0.0</td>\n",
       "    </tr>\n",
       "    <tr>\n",
       "      <th>21</th>\n",
       "      <td>GUF</td>\n",
       "      <td>French Guiana</td>\n",
       "      <td>(30.2891556, -87.66624770262722)</td>\n",
       "      <td>0.0</td>\n",
       "    </tr>\n",
       "    <tr>\n",
       "      <th>22</th>\n",
       "      <td>GUY</td>\n",
       "      <td>Guyana</td>\n",
       "      <td>(29.3441332, -95.7830058)</td>\n",
       "      <td>0.0</td>\n",
       "    </tr>\n",
       "    <tr>\n",
       "      <th>1</th>\n",
       "      <td>AIA</td>\n",
       "      <td>Anguilla</td>\n",
       "      <td>(43.236547, -2.1486667)</td>\n",
       "      <td>0.0</td>\n",
       "    </tr>\n",
       "    <tr>\n",
       "      <th>2</th>\n",
       "      <td>ARG</td>\n",
       "      <td>Argentina</td>\n",
       "      <td>(31.1845678, -7.9196835)</td>\n",
       "      <td>0.0</td>\n",
       "    </tr>\n",
       "    <tr>\n",
       "      <th>3</th>\n",
       "      <td>ATG</td>\n",
       "      <td>Antigua and Barbuda</td>\n",
       "      <td>(14.6495224, 100.3170382)</td>\n",
       "      <td>0.0</td>\n",
       "    </tr>\n",
       "    <tr>\n",
       "      <th>4</th>\n",
       "      <td>BHS</td>\n",
       "      <td>Bahamas</td>\n",
       "      <td>(23.5225788, 77.8148001)</td>\n",
       "      <td>0.0</td>\n",
       "    </tr>\n",
       "    <tr>\n",
       "      <th>5</th>\n",
       "      <td>BLZ</td>\n",
       "      <td>Belize</td>\n",
       "      <td>(16.8259793, -88.7600927)</td>\n",
       "      <td>0.0</td>\n",
       "    </tr>\n",
       "    <tr>\n",
       "      <th>6</th>\n",
       "      <td>BMU</td>\n",
       "      <td>Bermuda</td>\n",
       "      <td>(-8.5379181, 118.6857460933394)</td>\n",
       "      <td>0.0</td>\n",
       "    </tr>\n",
       "    <tr>\n",
       "      <th>8</th>\n",
       "      <td>BRB</td>\n",
       "      <td>Barbados</td>\n",
       "      <td>(38.8057942, -7.4542105)</td>\n",
       "      <td>0.0</td>\n",
       "    </tr>\n",
       "    <tr>\n",
       "      <th>9</th>\n",
       "      <td>CAN</td>\n",
       "      <td>Canada</td>\n",
       "      <td>(49.1813403, -0.3635615)</td>\n",
       "      <td>0.0</td>\n",
       "    </tr>\n",
       "    <tr>\n",
       "      <th>10</th>\n",
       "      <td>CHL</td>\n",
       "      <td>Chile</td>\n",
       "      <td>(-31.7613365, -71.3187697)</td>\n",
       "      <td>0.0</td>\n",
       "    </tr>\n",
       "    <tr>\n",
       "      <th>13</th>\n",
       "      <td>CUB</td>\n",
       "      <td>Cuba</td>\n",
       "      <td>(38.16521, -7.89253)</td>\n",
       "      <td>0.0</td>\n",
       "    </tr>\n",
       "    <tr>\n",
       "      <th>14</th>\n",
       "      <td>CYM</td>\n",
       "      <td>Cayman Islands</td>\n",
       "      <td>(-33.00910825, -60.75298283422084)</td>\n",
       "      <td>0.0</td>\n",
       "    </tr>\n",
       "    <tr>\n",
       "      <th>15</th>\n",
       "      <td>DMA</td>\n",
       "      <td>Dominica</td>\n",
       "      <td>(32.17079565, -110.86990239630313)</td>\n",
       "      <td>0.0</td>\n",
       "    </tr>\n",
       "    <tr>\n",
       "      <th>16</th>\n",
       "      <td>DOM</td>\n",
       "      <td>Dominican Republic</td>\n",
       "      <td>(46.1152451, 8.2920459)</td>\n",
       "      <td>0.0</td>\n",
       "    </tr>\n",
       "    <tr>\n",
       "      <th>17</th>\n",
       "      <td>ECU</td>\n",
       "      <td>Ecuador</td>\n",
       "      <td>(52.5352133, 5.7102021)</td>\n",
       "      <td>0.0</td>\n",
       "    </tr>\n",
       "    <tr>\n",
       "      <th>18</th>\n",
       "      <td>GLP</td>\n",
       "      <td>Guadeloupe</td>\n",
       "      <td>(17.1516758, 82.2904779)</td>\n",
       "      <td>0.0</td>\n",
       "    </tr>\n",
       "    <tr>\n",
       "      <th>19</th>\n",
       "      <td>GRD</td>\n",
       "      <td>Grenada</td>\n",
       "      <td>(40.5378408, -7.2662964)</td>\n",
       "      <td>0.0</td>\n",
       "    </tr>\n",
       "    <tr>\n",
       "      <th>42</th>\n",
       "      <td>VCT</td>\n",
       "      <td>Saint Vincent and the Grenadines</td>\n",
       "      <td>(41.694867, -8.831088)</td>\n",
       "      <td>0.0</td>\n",
       "    </tr>\n",
       "  </tbody>\n",
       "</table>\n",
       "</div>"
      ],
      "text/plain": [
       "   CountryCode                        RegionName  \\\n",
       "7          BRA                            Brazil   \n",
       "35         PRY                          Paraguay   \n",
       "20         GTM                         Guatemala   \n",
       "33         PER                              Peru   \n",
       "36         SLV                       El Salvador   \n",
       "11         COL                          Colombia   \n",
       "23         HND                          Honduras   \n",
       "12         CRI                        Costa Rica   \n",
       "31         NIC                         Nicaragua   \n",
       "32         PAN                            Panama   \n",
       "28         MEX                            Mexico   \n",
       "37         SUR                          Suriname   \n",
       "38         TCA          Turks and Caicos Islands   \n",
       "34         PRI                       Puerto Rico   \n",
       "39         TTO               Trinidad and Tobago   \n",
       "24         HTI                             Haiti   \n",
       "40         URY                           Uruguay   \n",
       "30         MTQ                        Martinique   \n",
       "29         MSR                        Montserrat   \n",
       "27         LCA                       Saint Lucia   \n",
       "41         USA                     United States   \n",
       "26         KNA             Saint Kitts and Nevis   \n",
       "25         JAM                           Jamaica   \n",
       "0          ABW                             Aruba   \n",
       "21         GUF                     French Guiana   \n",
       "22         GUY                            Guyana   \n",
       "1          AIA                          Anguilla   \n",
       "2          ARG                         Argentina   \n",
       "3          ATG               Antigua and Barbuda   \n",
       "4          BHS                           Bahamas   \n",
       "5          BLZ                            Belize   \n",
       "6          BMU                           Bermuda   \n",
       "8          BRB                          Barbados   \n",
       "9          CAN                            Canada   \n",
       "10         CHL                             Chile   \n",
       "13         CUB                              Cuba   \n",
       "14         CYM                    Cayman Islands   \n",
       "15         DMA                          Dominica   \n",
       "16         DOM                Dominican Republic   \n",
       "17         ECU                           Ecuador   \n",
       "18         GLP                        Guadeloupe   \n",
       "19         GRD                           Grenada   \n",
       "42         VCT  Saint Vincent and the Grenadines   \n",
       "\n",
       "                              Location  NumValue  \n",
       "7              (44.6976778, 7.8542707)  265289.0  \n",
       "35              (50.273814, 4.4326804)    2443.0  \n",
       "20   (51.34473215, 12.285764313430338)    1800.0  \n",
       "33           (39.6370289, -82.2044367)     595.0  \n",
       "36   (37.26398255, -8.348731138182709)     154.0  \n",
       "11               (50.938361, 6.959974)      94.0  \n",
       "23            (22.3511148, 78.6677428)      44.0  \n",
       "12            (19.7589517, 99.6734592)      25.0  \n",
       "31            (40.9357176, 47.6645465)       4.0  \n",
       "32            (35.4338536, 69.7930899)       2.0  \n",
       "28           (19.4839446, -99.6899716)       2.0  \n",
       "37    (3.48470445, -76.40282227396737)       0.0  \n",
       "38   (-19.6305093, 134.18226892859178)       0.0  \n",
       "34            (45.0819456, 134.726645)       0.0  \n",
       "39   (45.81380745, -97.74395892099608)       0.0  \n",
       "24          (-20.3522845, 148.9480748)       0.0  \n",
       "40              (48.342555, 2.6048701)       0.0  \n",
       "30    (45.7984078, -74.01642739712129)       0.0  \n",
       "29            (26.2540493, 29.2675469)       0.0  \n",
       "27           (22.2967657, 104.0566164)       0.0  \n",
       "41           (39.7837304, -100.445882)       0.0  \n",
       "26  (-32.94919415, -71.47885980024215)       0.0  \n",
       "25            (22.4930279, 70.0535096)       0.0  \n",
       "0               (11.129167, 42.919722)       0.0  \n",
       "21    (30.2891556, -87.66624770262722)       0.0  \n",
       "22           (29.3441332, -95.7830058)       0.0  \n",
       "1              (43.236547, -2.1486667)       0.0  \n",
       "2             (31.1845678, -7.9196835)       0.0  \n",
       "3            (14.6495224, 100.3170382)       0.0  \n",
       "4             (23.5225788, 77.8148001)       0.0  \n",
       "5            (16.8259793, -88.7600927)       0.0  \n",
       "6      (-8.5379181, 118.6857460933394)       0.0  \n",
       "8             (38.8057942, -7.4542105)       0.0  \n",
       "9             (49.1813403, -0.3635615)       0.0  \n",
       "10          (-31.7613365, -71.3187697)       0.0  \n",
       "13                (38.16521, -7.89253)       0.0  \n",
       "14  (-33.00910825, -60.75298283422084)       0.0  \n",
       "15  (32.17079565, -110.86990239630313)       0.0  \n",
       "16             (46.1152451, 8.2920459)       0.0  \n",
       "17             (52.5352133, 5.7102021)       0.0  \n",
       "18            (17.1516758, 82.2904779)       0.0  \n",
       "19            (40.5378408, -7.2662964)       0.0  \n",
       "42              (41.694867, -8.831088)       0.0  "
      ]
     },
     "execution_count": 19,
     "metadata": {},
     "output_type": "execute_result"
    }
   ],
   "source": [
    "df.sort_values(by=['NumValue'], inplace=True, ascending=False)\n",
    "df"
   ]
  },
  {
   "cell_type": "code",
   "execution_count": 22,
   "metadata": {},
   "outputs": [
    {
     "data": {
      "application/vnd.jupyter.widget-view+json": {
       "model_id": "067178d600884615886fa203d17e2b93",
       "version_major": 2,
       "version_minor": 0
      },
      "text/plain": [
       "Output()"
      ]
     },
     "metadata": {},
     "output_type": "display_data"
    }
   ],
   "source": [
    "import k3d\n",
    "import vtk\n",
    "import ipywidgets as widgets\n",
    "\n",
    "reader = vtk.vtkGLTFReader() \n",
    "reader.SetFileName('sample_glb/5IRE.glb')\n",
    "reader.Update() \n",
    "\n",
    "plot = k3d.plot()\n",
    "mb = reader.GetOutput()\n",
    "\n",
    "iterator = mb.NewIterator()\n",
    "\n",
    "vtk_polyobjects = []\n",
    "while not iterator.IsDoneWithTraversal():\n",
    "    item = iterator.GetCurrentDataObject()\n",
    "    vtk_polyobjects.append(item)\n",
    "    iterator.GoToNextItem()\n",
    "\n",
    "    \n",
    "for obj in vtk_polyobjects:\n",
    "    plot += k3d.vtk_poly_data(obj, color=0x222222)\n",
    "plot.display()"
   ]
  },
  {
   "cell_type": "code",
   "execution_count": 30,
   "metadata": {},
   "outputs": [
    {
     "ename": "ValueError",
     "evalue": "Incorrect texture coordinate shape",
     "output_type": "error",
     "traceback": [
      "\u001b[1;31m---------------------------------------------------------------------------\u001b[0m",
      "\u001b[1;31mValueError\u001b[0m                                Traceback (most recent call last)",
      "Cell \u001b[1;32mIn [30], line 5\u001b[0m\n\u001b[0;32m      3\u001b[0m fuze_trimesh \u001b[39m=\u001b[39m trimesh\u001b[39m.\u001b[39mload(\u001b[39m'\u001b[39m\u001b[39msample_glb/5IRE.glb\u001b[39m\u001b[39m'\u001b[39m)\n\u001b[0;32m      4\u001b[0m \u001b[39m#mesh = pyrender.Mesh.from_trimesh(fuze_trimesh)\u001b[39;00m\n\u001b[1;32m----> 5\u001b[0m scene \u001b[39m=\u001b[39m pyrender\u001b[39m.\u001b[39;49mScene\u001b[39m.\u001b[39;49mfrom_trimesh_scene(fuze_trimesh)\n\u001b[0;32m      6\u001b[0m pyrender\u001b[39m.\u001b[39mViewer(scene, use_raymond_lighting\u001b[39m=\u001b[39m\u001b[39mTrue\u001b[39;00m)\n",
      "File \u001b[1;32mc:\\Users\\Glueg\\AppData\\Local\\Programs\\Python\\Python311\\Lib\\site-packages\\pyrender\\scene.py:574\u001b[0m, in \u001b[0;36mScene.from_trimesh_scene\u001b[1;34m(trimesh_scene, bg_color, ambient_light)\u001b[0m\n\u001b[0;32m    557\u001b[0m \u001b[39m\"\"\"Create a :class:`.Scene` from a :class:`trimesh.scene.scene.Scene`.\u001b[39;00m\n\u001b[0;32m    558\u001b[0m \n\u001b[0;32m    559\u001b[0m \u001b[39mParameters\u001b[39;00m\n\u001b[1;32m   (...)\u001b[0m\n\u001b[0;32m    571\u001b[0m \u001b[39m    A scene containing the same geometry as the trimesh scene.\u001b[39;00m\n\u001b[0;32m    572\u001b[0m \u001b[39m\"\"\"\u001b[39;00m\n\u001b[0;32m    573\u001b[0m \u001b[39m# convert trimesh geometries to pyrender geometries\u001b[39;00m\n\u001b[1;32m--> 574\u001b[0m geometries \u001b[39m=\u001b[39m {name: Mesh\u001b[39m.\u001b[39;49mfrom_trimesh(geom)\n\u001b[0;32m    575\u001b[0m               \u001b[39mfor\u001b[39;49;00m name, geom \u001b[39min\u001b[39;49;00m trimesh_scene\u001b[39m.\u001b[39;49mgeometry\u001b[39m.\u001b[39;49mitems()}\n\u001b[0;32m    577\u001b[0m \u001b[39m# create the pyrender scene object\u001b[39;00m\n\u001b[0;32m    578\u001b[0m scene_pr \u001b[39m=\u001b[39m Scene(bg_color\u001b[39m=\u001b[39mbg_color, ambient_light\u001b[39m=\u001b[39mambient_light)\n",
      "File \u001b[1;32mc:\\Users\\Glueg\\AppData\\Local\\Programs\\Python\\Python311\\Lib\\site-packages\\pyrender\\scene.py:574\u001b[0m, in \u001b[0;36m<dictcomp>\u001b[1;34m(.0)\u001b[0m\n\u001b[0;32m    557\u001b[0m \u001b[39m\"\"\"Create a :class:`.Scene` from a :class:`trimesh.scene.scene.Scene`.\u001b[39;00m\n\u001b[0;32m    558\u001b[0m \n\u001b[0;32m    559\u001b[0m \u001b[39mParameters\u001b[39;00m\n\u001b[1;32m   (...)\u001b[0m\n\u001b[0;32m    571\u001b[0m \u001b[39m    A scene containing the same geometry as the trimesh scene.\u001b[39;00m\n\u001b[0;32m    572\u001b[0m \u001b[39m\"\"\"\u001b[39;00m\n\u001b[0;32m    573\u001b[0m \u001b[39m# convert trimesh geometries to pyrender geometries\u001b[39;00m\n\u001b[1;32m--> 574\u001b[0m geometries \u001b[39m=\u001b[39m {name: Mesh\u001b[39m.\u001b[39;49mfrom_trimesh(geom)\n\u001b[0;32m    575\u001b[0m               \u001b[39mfor\u001b[39;00m name, geom \u001b[39min\u001b[39;00m trimesh_scene\u001b[39m.\u001b[39mgeometry\u001b[39m.\u001b[39mitems()}\n\u001b[0;32m    577\u001b[0m \u001b[39m# create the pyrender scene object\u001b[39;00m\n\u001b[0;32m    578\u001b[0m scene_pr \u001b[39m=\u001b[39m Scene(bg_color\u001b[39m=\u001b[39mbg_color, ambient_light\u001b[39m=\u001b[39mambient_light)\n",
      "File \u001b[1;32mc:\\Users\\Glueg\\AppData\\Local\\Programs\\Python\\Python311\\Lib\\site-packages\\pyrender\\mesh.py:228\u001b[0m, in \u001b[0;36mMesh.from_trimesh\u001b[1;34m(mesh, material, is_visible, poses, wireframe, smooth)\u001b[0m\n\u001b[0;32m    225\u001b[0m     primitive_material\u001b[39m.\u001b[39mwireframe \u001b[39m=\u001b[39m wireframe\n\u001b[0;32m    227\u001b[0m     \u001b[39m# Create the primitive\u001b[39;00m\n\u001b[1;32m--> 228\u001b[0m     primitives\u001b[39m.\u001b[39mappend(Primitive(\n\u001b[0;32m    229\u001b[0m         positions\u001b[39m=\u001b[39;49mpositions,\n\u001b[0;32m    230\u001b[0m         normals\u001b[39m=\u001b[39;49mnormals,\n\u001b[0;32m    231\u001b[0m         texcoord_0\u001b[39m=\u001b[39;49mtexcoord_0,\n\u001b[0;32m    232\u001b[0m         color_0\u001b[39m=\u001b[39;49mcolor_0,\n\u001b[0;32m    233\u001b[0m         indices\u001b[39m=\u001b[39;49mindices,\n\u001b[0;32m    234\u001b[0m         material\u001b[39m=\u001b[39;49mprimitive_material,\n\u001b[0;32m    235\u001b[0m         mode\u001b[39m=\u001b[39;49mGLTF\u001b[39m.\u001b[39;49mTRIANGLES,\n\u001b[0;32m    236\u001b[0m         poses\u001b[39m=\u001b[39;49mposes\n\u001b[0;32m    237\u001b[0m     ))\n\u001b[0;32m    239\u001b[0m \u001b[39mreturn\u001b[39;00m Mesh(primitives\u001b[39m=\u001b[39mprimitives, is_visible\u001b[39m=\u001b[39mis_visible)\n",
      "File \u001b[1;32mc:\\Users\\Glueg\\AppData\\Local\\Programs\\Python\\Python311\\Lib\\site-packages\\pyrender\\primitive.py:78\u001b[0m, in \u001b[0;36mPrimitive.__init__\u001b[1;34m(self, positions, normals, tangents, texcoord_0, texcoord_1, color_0, joints_0, weights_0, indices, material, mode, targets, poses)\u001b[0m\n\u001b[0;32m     76\u001b[0m \u001b[39mself\u001b[39m\u001b[39m.\u001b[39mnormals \u001b[39m=\u001b[39m normals\n\u001b[0;32m     77\u001b[0m \u001b[39mself\u001b[39m\u001b[39m.\u001b[39mtangents \u001b[39m=\u001b[39m tangents\n\u001b[1;32m---> 78\u001b[0m \u001b[39mself\u001b[39;49m\u001b[39m.\u001b[39;49mtexcoord_0 \u001b[39m=\u001b[39m texcoord_0\n\u001b[0;32m     79\u001b[0m \u001b[39mself\u001b[39m\u001b[39m.\u001b[39mtexcoord_1 \u001b[39m=\u001b[39m texcoord_1\n\u001b[0;32m     80\u001b[0m \u001b[39mself\u001b[39m\u001b[39m.\u001b[39mcolor_0 \u001b[39m=\u001b[39m color_0\n",
      "File \u001b[1;32mc:\\Users\\Glueg\\AppData\\Local\\Programs\\Python\\Python311\\Lib\\site-packages\\pyrender\\primitive.py:150\u001b[0m, in \u001b[0;36mPrimitive.texcoord_0\u001b[1;34m(self, value)\u001b[0m\n\u001b[0;32m    147\u001b[0m value \u001b[39m=\u001b[39m np\u001b[39m.\u001b[39mascontiguousarray(value)\n\u001b[0;32m    148\u001b[0m \u001b[39mif\u001b[39;00m (value\u001b[39m.\u001b[39mndim \u001b[39m!=\u001b[39m \u001b[39m2\u001b[39m \u001b[39mor\u001b[39;00m value\u001b[39m.\u001b[39mshape[\u001b[39m0\u001b[39m] \u001b[39m!=\u001b[39m \u001b[39mself\u001b[39m\u001b[39m.\u001b[39mpositions\u001b[39m.\u001b[39mshape[\u001b[39m0\u001b[39m] \u001b[39mor\u001b[39;00m\n\u001b[0;32m    149\u001b[0m         value\u001b[39m.\u001b[39mshape[\u001b[39m1\u001b[39m] \u001b[39m<\u001b[39m \u001b[39m2\u001b[39m):\n\u001b[1;32m--> 150\u001b[0m     \u001b[39mraise\u001b[39;00m \u001b[39mValueError\u001b[39;00m(\u001b[39m'\u001b[39m\u001b[39mIncorrect texture coordinate shape\u001b[39m\u001b[39m'\u001b[39m)\n\u001b[0;32m    151\u001b[0m \u001b[39mif\u001b[39;00m value\u001b[39m.\u001b[39mshape[\u001b[39m1\u001b[39m] \u001b[39m>\u001b[39m \u001b[39m2\u001b[39m:\n\u001b[0;32m    152\u001b[0m     value \u001b[39m=\u001b[39m value[:,:\u001b[39m2\u001b[39m]\n",
      "\u001b[1;31mValueError\u001b[0m: Incorrect texture coordinate shape"
     ]
    }
   ],
   "source": [
    "import trimesh\n",
    "import pyrender\n",
    "fuze_trimesh = trimesh.load('sample_glb/5IRE.glb')\n",
    "#mesh = pyrender.Mesh.from_trimesh(fuze_trimesh)\n",
    "scene = pyrender.Scene.from_trimesh_scene(fuze_trimesh)\n",
    "pyrender.Viewer(scene, use_raymond_lighting=True)"
   ]
  }
 ],
 "metadata": {
  "kernelspec": {
   "display_name": "Python 3",
   "language": "python",
   "name": "python3"
  },
  "language_info": {
   "codemirror_mode": {
    "name": "ipython",
    "version": 3
   },
   "file_extension": ".py",
   "mimetype": "text/x-python",
   "name": "python",
   "nbconvert_exporter": "python",
   "pygments_lexer": "ipython3",
   "version": "3.11.0"
  },
  "orig_nbformat": 4,
  "vscode": {
   "interpreter": {
    "hash": "11b56a382828864c4380454d83825ea45435331ac733bae7e00e85b9b1e9241d"
   }
  }
 },
 "nbformat": 4,
 "nbformat_minor": 2
}
